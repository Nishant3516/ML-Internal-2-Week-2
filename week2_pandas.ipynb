{
 "cells": [
  {
   "cell_type": "markdown",
   "metadata": {},
   "source": [
    "# Reading data from CSVs "
   ]
  },
  {
   "cell_type": "code",
   "execution_count": null,
   "metadata": {},
   "outputs": [],
   "source": [
    "!python -m pip install pandas\n",
    "\n",
    "import pandas as pd\n",
    "\n",
    "movies_df = pd.read_csv(\"IMDB-Movie-Data.csv\", index_col=\"Title\") "
   ]
  },
  {
   "cell_type": "markdown",
   "metadata": {},
   "source": [
    "read_csv reads the csv file and index_col = \"Title\" sets the column name of the default indexing as title"
   ]
  },
  {
   "cell_type": "markdown",
   "metadata": {},
   "source": [
    "# Viewing your data "
   ]
  },
  {
   "cell_type": "code",
   "execution_count": null,
   "metadata": {},
   "outputs": [],
   "source": [
    "movies_df.head()\n",
    "movies_df.shape"
   ]
  },
  {
   "cell_type": "markdown",
   "metadata": {},
   "source": [
    "head() returns the top rows (top 5 rows by default) elements of the data"
   ]
  },
  {
   "cell_type": "markdown",
   "metadata": {},
   "source": [
    "shape return the no. of rows and columns of the dataset in the format (row, column)"
   ]
  },
  {
   "cell_type": "markdown",
   "metadata": {},
   "source": [
    "# Program 1"
   ]
  },
  {
   "cell_type": "code",
   "execution_count": 8,
   "metadata": {},
   "outputs": [
    {
     "data": {
      "text/plain": [
       "0    11\n",
       "1    28\n",
       "2    72\n",
       "3     3\n",
       "4     5\n",
       "5     8\n",
       "dtype: int64"
      ]
     },
     "execution_count": 8,
     "metadata": {},
     "output_type": "execute_result"
    }
   ],
   "source": [
    "# !python -m pip install pandas\n",
    "\n",
    "import pandas as pd\n",
    "\n",
    "S = pd.Series([11, 28, 72, 3, 5, 8])\n",
    "S"
   ]
  },
  {
   "cell_type": "markdown",
   "metadata": {},
   "source": [
    "# Program 2"
   ]
  },
  {
   "cell_type": "code",
   "execution_count": 9,
   "metadata": {},
   "outputs": [
    {
     "name": "stdout",
     "output_type": "stream",
     "text": [
      "RangeIndex(start=0, stop=6, step=1)\n",
      "[11 28 72  3  5  8]\n"
     ]
    }
   ],
   "source": [
    "print(S.index)\n",
    "print(S.values)"
   ]
  },
  {
   "cell_type": "markdown",
   "metadata": {},
   "source": [
    "# Program 3"
   ]
  },
  {
   "cell_type": "code",
   "execution_count": 11,
   "metadata": {},
   "outputs": [
    {
     "name": "stdout",
     "output_type": "stream",
     "text": [
      "[11 28 72  3  5  8]\n",
      "[11 28 72  3  5  8]\n",
      "<class 'numpy.ndarray'> <class 'numpy.ndarray'>\n"
     ]
    }
   ],
   "source": [
    "# !python -m pip install numpy\n",
    "\n",
    "import numpy as np\n",
    "X= np.array([11,28,72,3,5,8])\n",
    "print(X)\n",
    "print(S.values)\n",
    "print(type(S.values), type(X))"
   ]
  },
  {
   "cell_type": "markdown",
   "metadata": {},
   "source": [
    "# Program 4"
   ]
  },
  {
   "cell_type": "code",
   "execution_count": 12,
   "metadata": {},
   "outputs": [
    {
     "data": {
      "text/plain": [
       "apples      20\n",
       "oranges     33\n",
       "cherries    52\n",
       "pears       10\n",
       "dtype: int64"
      ]
     },
     "execution_count": 12,
     "metadata": {},
     "output_type": "execute_result"
    }
   ],
   "source": [
    "fruits = ['apples', 'oranges', 'cherries', 'pears']\n",
    "quantities = [20, 33, 52, 10]\n",
    "S = pd.Series (quantities, index=fruits)\n",
    "S"
   ]
  },
  {
   "cell_type": "markdown",
   "metadata": {},
   "source": [
    "index = fruits sets the default index values (0,1,2,...) as the elements of the list fruits"
   ]
  },
  {
   "cell_type": "markdown",
   "metadata": {},
   "source": [
    "# Program 5"
   ]
  },
  {
   "cell_type": "code",
   "execution_count": 13,
   "metadata": {},
   "outputs": [
    {
     "name": "stdout",
     "output_type": "stream",
     "text": [
      "apples      37\n",
      "oranges     46\n",
      "cherries    83\n",
      "pears       42\n",
      "dtype: int64\n",
      "sum of S:  115\n"
     ]
    }
   ],
   "source": [
    "fruits = ['apples', 'oranges', 'cherries', 'pears']\n",
    "S = pd.Series ([20, 33, 52, 10], index=fruits)\n",
    "S2 = pd.Series ([17, 13, 31, 32], index=fruits)\n",
    "print (S + S2)\n",
    "print (\"sum of S: \", sum (S))"
   ]
  },
  {
   "cell_type": "markdown",
   "metadata": {},
   "source": [
    "If we add two series with the same indices, we get a new series with the same index and the corresponding values will be added"
   ]
  },
  {
   "cell_type": "markdown",
   "metadata": {},
   "source": [
    "# Program 6"
   ]
  },
  {
   "cell_type": "code",
   "execution_count": 14,
   "metadata": {},
   "outputs": [
    {
     "name": "stdout",
     "output_type": "stream",
     "text": [
      "cherries       83.0\n",
      "oranges        46.0\n",
      "peaches         NaN\n",
      "pears          42.0\n",
      "raspberries     NaN\n",
      "dtype: float64\n"
     ]
    }
   ],
   "source": [
    "fruits = ['peaches', 'oranges', 'cherries', 'pears']\n",
    "fruits2 = ['raspberries', 'oranges', 'cherries', 'pears']\n",
    "S = pd.Series ([20, 33, 52, 10], index=fruits)\n",
    "S2 = pd.Series ([17, 13, 31, 32], index=fruits2)\n",
    "print (S + S2)"
   ]
  },
  {
   "cell_type": "markdown",
   "metadata": {},
   "source": [
    "The indices do not have to be the same for the Series addition. The index will be the \"union\" of both indices. If an index doesn't occur in both Series, the value for this Series will be NaN."
   ]
  },
  {
   "cell_type": "markdown",
   "metadata": {},
   "source": [
    "# Program 7"
   ]
  },
  {
   "cell_type": "code",
   "execution_count": 15,
   "metadata": {},
   "outputs": [
    {
     "name": "stdout",
     "output_type": "stream",
     "text": [
      "apples     NaN\n",
      "armut      NaN\n",
      "cherries   NaN\n",
      "elma       NaN\n",
      "kiraz      NaN\n",
      "oranges    NaN\n",
      "pears      NaN\n",
      "portakal   NaN\n",
      "dtype: float64\n"
     ]
    }
   ],
   "source": [
    "fruits = ['apples', 'oranges', 'cherries', 'pears']\n",
    "fruits_tr = ['elma', 'portakal', 'kiraz', 'armut']\n",
    "S = pd.Series ([20, 33, 52, 10], index=fruits)\n",
    "S2 = pd.Series ([17, 13, 31, 32], index=fruits_tr)\n",
    "print (S + S2)"
   ]
  },
  {
   "cell_type": "markdown",
   "metadata": {},
   "source": [
    "In principle, the indices can be completely different, as in the following example. We have two indices. One is the Turkish translation of the English fruit names."
   ]
  },
  {
   "cell_type": "markdown",
   "metadata": {},
   "source": [
    "# Program 8 - Indexing"
   ]
  },
  {
   "cell_type": "code",
   "execution_count": 16,
   "metadata": {},
   "outputs": [
    {
     "name": "stdout",
     "output_type": "stream",
     "text": [
      "20\n"
     ]
    }
   ],
   "source": [
    "print (S['apples'])"
   ]
  }
 ],
 "metadata": {
  "kernelspec": {
   "display_name": "Python 3",
   "language": "python",
   "name": "python3"
  },
  "language_info": {
   "codemirror_mode": {
    "name": "ipython",
    "version": 3
   },
   "file_extension": ".py",
   "mimetype": "text/x-python",
   "name": "python",
   "nbconvert_exporter": "python",
   "pygments_lexer": "ipython3",
   "version": "3.10.4"
  }
 },
 "nbformat": 4,
 "nbformat_minor": 2
}
