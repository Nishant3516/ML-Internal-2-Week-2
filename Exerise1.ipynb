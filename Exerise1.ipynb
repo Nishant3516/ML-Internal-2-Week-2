{
 "cells": [
  {
   "cell_type": "markdown",
   "metadata": {},
   "source": [
    "Write a python program to declare two series data and also add the index names. Use division operator to divide one series by another. In the output one of the series data must be NaN and another Inf. "
   ]
  },
  {
   "cell_type": "code",
   "execution_count": 1,
   "metadata": {},
   "outputs": [
    {
     "name": "stdout",
     "output_type": "stream",
     "text": [
      "Series 1:\n",
      "A    10\n",
      "B    20\n",
      "C    30\n",
      "Name: Series1, dtype: int64\n",
      "\n",
      "Series 2:\n",
      "A    2\n",
      "B    0\n",
      "C    5\n",
      "Name: Series2, dtype: int64\n",
      "\n",
      "Result of Series1 / Series2:\n",
      "A    5.0\n",
      "B    inf\n",
      "C    6.0\n",
      "dtype: float64\n"
     ]
    }
   ],
   "source": [
    "# !python -m pip install pandas\n",
    "\n",
    "import pandas as pd\n",
    "\n",
    "# Declare two series data with index names\n",
    "data1 = {'A': 10, 'B': 20, 'C': 30}\n",
    "data2 = {'A': 2, 'B': 0, 'C': 5}\n",
    "\n",
    "series1 = pd.Series(data1, name='Series1')\n",
    "series2 = pd.Series(data2, name='Series2')\n",
    "\n",
    "# Perform division\n",
    "result_series = series1 / series2\n",
    "\n",
    "# Display the results\n",
    "print(\"Series 1:\")\n",
    "print(series1)\n",
    "\n",
    "print(\"\\nSeries 2:\")\n",
    "print(series2)\n",
    "\n",
    "print(\"\\nResult of Series1 / Series2:\")\n",
    "print(result_series)\n"
   ]
  }
 ],
 "metadata": {
  "kernelspec": {
   "display_name": "Python 3",
   "language": "python",
   "name": "python3"
  },
  "language_info": {
   "codemirror_mode": {
    "name": "ipython",
    "version": 3
   },
   "file_extension": ".py",
   "mimetype": "text/x-python",
   "name": "python",
   "nbconvert_exporter": "python",
   "pygments_lexer": "ipython3",
   "version": "3.10.4"
  }
 },
 "nbformat": 4,
 "nbformat_minor": 2
}
